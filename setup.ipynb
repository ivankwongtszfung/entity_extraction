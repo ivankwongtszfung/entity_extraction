{
 "cells": [
  {
   "cell_type": "code",
   "execution_count": null,
   "metadata": {},
   "outputs": [],
   "source": [
    "# for windows\n",
    "!python -m venv venv\n",
    "!env/Scripts/activate.bat\n",
    "!. env/Scripts/activate\n",
    "!python -m pip install --upgrade pip\n",
    "%pip install ipykernel notebook\n",
    "!python -m ipykernel install --user --name=entity_extraction"
   ]
  },
  {
   "cell_type": "code",
   "execution_count": 5,
   "metadata": {},
   "outputs": [
    {
     "name": "stderr",
     "output_type": "stream",
     "text": [
      "�l�ؿ����ɮ� input/bert_base_cased �w�g�s�b�C\n",
      "�B�z�ɵo�Ϳ��~: input/bert_base_cased�C\n",
      "�l�ؿ����ɮ� -p �w�g�s�b�C\n",
      "�B�z�ɵo�Ϳ��~: -p�C\n",
      "�l�ؿ����ɮ� src �w�g�s�b�C\n"
     ]
    }
   ],
   "source": [
    "# Setup folders\n",
    "! mkdir \"input/bert_base_cased\"\n",
    "! mkdir \"input/bert_base_uncased\"\n",
    "! mkdir src"
   ]
  },
  {
   "cell_type": "code",
   "execution_count": 1,
   "metadata": {},
   "outputs": [
    {
     "name": "stdout",
     "output_type": "stream",
     "text": [
      "Requirement already satisfied: torch in .\\env\\lib\\site-packages (1.10.1)\n",
      "Requirement already satisfied: torchvision in .\\env\\lib\\site-packages (0.11.2)\n",
      "Requirement already satisfied: torchaudio in .\\env\\lib\\site-packages (0.10.1)\n",
      "Requirement already satisfied: typing-extensions in .\\env\\lib\\site-packages (from torch) (4.0.1)\n",
      "Requirement already satisfied: numpy in .\\env\\lib\\site-packages (from torchvision) (1.21.4)\n",
      "Requirement already satisfied: pillow!=8.3.0,>=5.3.0 in .\\env\\lib\\site-packages (from torchvision) (8.4.0)\n",
      "Note: you may need to restart the kernel to use updated packages.\n",
      "Requirement already satisfied: tqdm in .\\env\\lib\\site-packages (4.62.3)\n",
      "Requirement already satisfied: colorama in .\\env\\lib\\site-packages (from tqdm) (0.4.4)\n",
      "Note: you may need to restart the kernel to use updated packages.\n",
      "Requirement already satisfied: transformers[torch] in .\\env\\lib\\site-packages (4.14.1)\n",
      "Requirement already satisfied: huggingface-hub<1.0,>=0.1.0 in .\\env\\lib\\site-packages (from transformers[torch]) (0.2.1)\n",
      "Requirement already satisfied: sacremoses in .\\env\\lib\\site-packages (from transformers[torch]) (0.0.46)\n",
      "Requirement already satisfied: numpy>=1.17 in .\\env\\lib\\site-packages (from transformers[torch]) (1.21.4)\n",
      "Requirement already satisfied: filelock in .\\env\\lib\\site-packages (from transformers[torch]) (3.4.0)\n",
      "Requirement already satisfied: pyyaml>=5.1 in .\\env\\lib\\site-packages (from transformers[torch]) (6.0)\n",
      "Requirement already satisfied: tokenizers<0.11,>=0.10.1 in .\\env\\lib\\site-packages (from transformers[torch]) (0.10.3)\n",
      "Requirement already satisfied: tqdm>=4.27 in .\\env\\lib\\site-packages (from transformers[torch]) (4.62.3)\n",
      "Requirement already satisfied: requests in .\\env\\lib\\site-packages (from transformers[torch]) (2.26.0)\n",
      "Requirement already satisfied: regex!=2019.12.17 in .\\env\\lib\\site-packages (from transformers[torch]) (2021.11.10)\n",
      "Requirement already satisfied: packaging>=20.0 in .\\env\\lib\\site-packages (from transformers[torch]) (21.3)\n",
      "Requirement already satisfied: torch>=1.0 in .\\env\\lib\\site-packages (from transformers[torch]) (1.10.1)\n",
      "Requirement already satisfied: typing-extensions>=3.7.4.3 in .\\env\\lib\\site-packages (from huggingface-hub<1.0,>=0.1.0->transformers[torch]) (4.0.1)\n",
      "Requirement already satisfied: pyparsing!=3.0.5,>=2.0.2 in .\\env\\lib\\site-packages (from packaging>=20.0->transformers[torch]) (3.0.6)\n",
      "Requirement already satisfied: colorama in .\\env\\lib\\site-packages (from tqdm>=4.27->transformers[torch]) (0.4.4)\n",
      "Requirement already satisfied: urllib3<1.27,>=1.21.1 in .\\env\\lib\\site-packages (from requests->transformers[torch]) (1.26.7)\n",
      "Requirement already satisfied: certifi>=2017.4.17 in .\\env\\lib\\site-packages (from requests->transformers[torch]) (2021.10.8)\n",
      "Requirement already satisfied: idna<4,>=2.5 in .\\env\\lib\\site-packages (from requests->transformers[torch]) (3.3)\n",
      "Requirement already satisfied: charset-normalizer~=2.0.0 in .\\env\\lib\\site-packages (from requests->transformers[torch]) (2.0.9)\n",
      "Requirement already satisfied: joblib in .\\env\\lib\\site-packages (from sacremoses->transformers[torch]) (1.1.0)\n",
      "Requirement already satisfied: six in .\\env\\lib\\site-packages (from sacremoses->transformers[torch]) (1.16.0)\n",
      "Requirement already satisfied: click in .\\env\\lib\\site-packages (from sacremoses->transformers[torch]) (8.0.3)\n",
      "Note: you may need to restart the kernel to use updated packages.\n",
      "Collecting scikit-learn\n",
      "  Using cached scikit_learn-1.0.1-cp38-cp38-win_amd64.whl (7.2 MB)\n",
      "Collecting scipy>=1.1.0\n",
      "  Downloading scipy-1.7.3-cp38-cp38-win_amd64.whl (34.2 MB)\n",
      "Collecting threadpoolctl>=2.0.0\n",
      "  Using cached threadpoolctl-3.0.0-py3-none-any.whl (14 kB)\n",
      "Requirement already satisfied: joblib>=0.11 in .\\env\\lib\\site-packages (from scikit-learn) (1.1.0)\n",
      "Requirement already satisfied: numpy>=1.14.6 in .\\env\\lib\\site-packages (from scikit-learn) (1.21.4)\n",
      "Installing collected packages: threadpoolctl, scipy, scikit-learn\n",
      "Successfully installed scikit-learn-1.0.1 scipy-1.7.3 threadpoolctl-3.0.0\n",
      "Note: you may need to restart the kernel to use updated packages.\n",
      "Collecting pandas\n",
      "  Downloading pandas-1.3.5-cp38-cp38-win_amd64.whl (10.2 MB)\n",
      "Collecting pytz>=2017.3\n",
      "  Using cached pytz-2021.3-py2.py3-none-any.whl (503 kB)\n",
      "Requirement already satisfied: numpy>=1.17.3 in .\\env\\lib\\site-packages (from pandas) (1.21.4)\n",
      "Requirement already satisfied: python-dateutil>=2.7.3 in .\\env\\lib\\site-packages (from pandas) (2.8.2)\n",
      "Requirement already satisfied: six>=1.5 in .\\env\\lib\\site-packages (from python-dateutil>=2.7.3->pandas) (1.16.0)\n",
      "Installing collected packages: pytz, pandas\n",
      "Successfully installed pandas-1.3.5 pytz-2021.3\n",
      "Note: you may need to restart the kernel to use updated packages.\n"
     ]
    }
   ],
   "source": [
    "%pip install torch torchvision torchaudio\n",
    "%pip install tqdm\n",
    "%pip install transformers[torch]\n",
    "%pip install scikit-learn\n",
    "%pip install pandas"
   ]
  }
 ],
 "metadata": {
  "interpreter": {
   "hash": "571db10af91257f36ba857cfa9e7cc33e4492d25d17383d846c67edfe8c4e55b"
  },
  "kernelspec": {
   "display_name": "Python 3.8.10 64-bit ('env': venv)",
   "language": "python",
   "name": "python3"
  },
  "language_info": {
   "codemirror_mode": {
    "name": "ipython",
    "version": 3
   },
   "file_extension": ".py",
   "mimetype": "text/x-python",
   "name": "python",
   "nbconvert_exporter": "python",
   "pygments_lexer": "ipython3",
   "version": "3.8.10"
  },
  "orig_nbformat": 4
 },
 "nbformat": 4,
 "nbformat_minor": 2
}
